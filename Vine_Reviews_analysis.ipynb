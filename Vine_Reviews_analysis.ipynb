{
  "nbformat": 4,
  "nbformat_minor": 0,
  "metadata": {
    "colab": {
      "name": "Vine_Reviews_analysis.ipynb",
      "provenance": [],
      "collapsed_sections": []
    },
    "kernelspec": {
      "display_name": "PythonData",
      "language": "python",
      "name": "pythondata"
    },
    "language_info": {
      "codemirror_mode": {
        "name": "ipython",
        "version": 3
      },
      "file_extension": ".py",
      "mimetype": "text/x-python",
      "name": "python",
      "nbconvert_exporter": "python",
      "pygments_lexer": "ipython3",
      "version": "3.7.7"
    },
    "nteract": {
      "version": "0.12.3"
    }
  },
  "cells": [
    {
      "cell_type": "code",
      "metadata": {
        "id": "V58rxea0HqSa",
        "colab": {
          "base_uri": "https://localhost:8080/"
        },
        "outputId": "6b8dff0f-b70c-4b97-ad65-b7d2cb33208f"
      },
      "source": [
        "import os\n",
        "# Find the latest version of spark 2.0  from http://www-us.apache.org/dist/spark/ and enter as the spark version\n",
        "# For example:\n",
        "# spark_version = 'spark-3.1.1'\n",
        "spark_version = 'spark-3.1.1'\n",
        "os.environ['SPARK_VERSION']=spark_version\n",
        "\n",
        "# Install Spark and Java\n",
        "!apt-get update\n",
        "!apt-get install openjdk-11-jdk-headless -qq > /dev/null\n",
        "!wget -q http://www-us.apache.org/dist/spark/$SPARK_VERSION/$SPARK_VERSION-bin-hadoop2.7.tgz\n",
        "!tar xf $SPARK_VERSION-bin-hadoop2.7.tgz\n",
        "!pip install -q findspark\n",
        "\n",
        "# Set Environment Variables\n",
        "import os\n",
        "os.environ[\"JAVA_HOME\"] = \"/usr/lib/jvm/java-11-openjdk-amd64\"\n",
        "os.environ[\"SPARK_HOME\"] = f\"/content/{spark_version}-bin-hadoop2.7\"\n",
        "\n",
        "# Start a SparkSession\n",
        "!pip install findspark\n",
        "import findspark\n",
        "findspark.init()"
      ],
      "execution_count": 1,
      "outputs": [
        {
          "output_type": "stream",
          "text": [
            "Get:1 http://security.ubuntu.com/ubuntu bionic-security InRelease [88.7 kB]\n",
            "Ign:2 https://developer.download.nvidia.com/compute/cuda/repos/ubuntu1804/x86_64  InRelease\n",
            "Get:3 https://cloud.r-project.org/bin/linux/ubuntu bionic-cran40/ InRelease [3,626 B]\n",
            "Hit:4 http://archive.ubuntu.com/ubuntu bionic InRelease\n",
            "Get:5 http://ppa.launchpad.net/c2d4u.team/c2d4u4.0+/ubuntu bionic InRelease [15.9 kB]\n",
            "Ign:6 https://developer.download.nvidia.com/compute/machine-learning/repos/ubuntu1804/x86_64  InRelease\n",
            "Hit:7 https://developer.download.nvidia.com/compute/cuda/repos/ubuntu1804/x86_64  Release\n",
            "Hit:8 https://developer.download.nvidia.com/compute/machine-learning/repos/ubuntu1804/x86_64  Release\n",
            "Get:9 http://archive.ubuntu.com/ubuntu bionic-updates InRelease [88.7 kB]\n",
            "Hit:10 http://ppa.launchpad.net/cran/libgit2/ubuntu bionic InRelease\n",
            "Get:11 http://security.ubuntu.com/ubuntu bionic-security/restricted amd64 Packages [339 kB]\n",
            "Get:12 http://security.ubuntu.com/ubuntu bionic-security/main amd64 Packages [2,009 kB]\n",
            "Get:13 http://archive.ubuntu.com/ubuntu bionic-backports InRelease [74.6 kB]\n",
            "Hit:14 http://ppa.launchpad.net/deadsnakes/ppa/ubuntu bionic InRelease\n",
            "Get:15 http://ppa.launchpad.net/graphics-drivers/ppa/ubuntu bionic InRelease [21.3 kB]\n",
            "Get:18 http://ppa.launchpad.net/c2d4u.team/c2d4u4.0+/ubuntu bionic/main Sources [1,747 kB]\n",
            "Get:19 http://archive.ubuntu.com/ubuntu bionic-updates/main amd64 Packages [2,439 kB]\n",
            "Get:20 http://ppa.launchpad.net/c2d4u.team/c2d4u4.0+/ubuntu bionic/main amd64 Packages [894 kB]\n",
            "Get:21 http://archive.ubuntu.com/ubuntu bionic-updates/restricted amd64 Packages [368 kB]\n",
            "Get:22 http://archive.ubuntu.com/ubuntu bionic-updates/universe amd64 Packages [2,165 kB]\n",
            "Get:23 http://ppa.launchpad.net/graphics-drivers/ppa/ubuntu bionic/main amd64 Packages [49.4 kB]\n",
            "Fetched 10.3 MB in 3s (3,000 kB/s)\n",
            "Reading package lists... Done\n",
            "Requirement already satisfied: findspark in /usr/local/lib/python3.7/dist-packages (1.4.2)\n"
          ],
          "name": "stdout"
        }
      ]
    },
    {
      "cell_type": "code",
      "metadata": {
        "id": "_xKwTpATHqSe",
        "colab": {
          "base_uri": "https://localhost:8080/"
        },
        "outputId": "6131568a-74eb-4eae-e336-bb99225b39b6"
      },
      "source": [
        "# Download the Postgres driver that will allow Spark to interact with Postgres.\n",
        "!wget https://jdbc.postgresql.org/download/postgresql-42.2.16.jar"
      ],
      "execution_count": 2,
      "outputs": [
        {
          "output_type": "stream",
          "text": [
            "--2021-03-21 16:06:02--  https://jdbc.postgresql.org/download/postgresql-42.2.16.jar\n",
            "Resolving jdbc.postgresql.org (jdbc.postgresql.org)... 72.32.157.228, 2001:4800:3e1:1::228\n",
            "Connecting to jdbc.postgresql.org (jdbc.postgresql.org)|72.32.157.228|:443... connected.\n",
            "HTTP request sent, awaiting response... 200 OK\n",
            "Length: 1002883 (979K) [application/java-archive]\n",
            "Saving to: ‘postgresql-42.2.16.jar’\n",
            "\n",
            "postgresql-42.2.16. 100%[===================>] 979.38K  6.01MB/s    in 0.2s    \n",
            "\n",
            "2021-03-21 16:06:02 (6.01 MB/s) - ‘postgresql-42.2.16.jar’ saved [1002883/1002883]\n",
            "\n"
          ],
          "name": "stdout"
        }
      ]
    },
    {
      "cell_type": "code",
      "metadata": {
        "id": "MMqDAjVS0KN9"
      },
      "source": [
        "from pyspark.sql import SparkSession\n",
        "spark = SparkSession.builder.appName(\"BigData-Challenge\").config(\"spark.driver.extraClassPath\",\"/content/postgresql-42.2.16.jar\").getOrCreate()"
      ],
      "execution_count": 3,
      "outputs": []
    },
    {
      "cell_type": "markdown",
      "metadata": {
        "id": "cyBsySGuY-9V"
      },
      "source": [
        "### Load Amazon Data into Spark DataFrame"
      ]
    },
    {
      "cell_type": "code",
      "metadata": {
        "id": "CtCmBhQJY-9Z",
        "colab": {
          "base_uri": "https://localhost:8080/"
        },
        "outputId": "6418baab-e0ba-4c5b-ad8c-686566d8b032"
      },
      "source": [
        "from pyspark import SparkFiles\n",
        "url = \"https://s3.amazonaws.com/amazon-reviews-pds/tsv/amazon_reviews_us_Apparel_v1_00.tsv.gz\"\n",
        "spark.sparkContext.addFile(url)\n",
        "df = spark.read.option(\"encoding\", \"UTF-8\").csv(SparkFiles.get(\"\"), sep=\"\\t\", header=True, inferSchema=True)\n",
        "df.show()"
      ],
      "execution_count": 4,
      "outputs": [
        {
          "output_type": "stream",
          "text": [
            "+-----------+-----------+--------------+----------+--------------+--------------------+----------------+-----------+-------------+-----------+----+-----------------+--------------------+--------------------+-----------+\n",
            "|marketplace|customer_id|     review_id|product_id|product_parent|       product_title|product_category|star_rating|helpful_votes|total_votes|vine|verified_purchase|     review_headline|         review_body|review_date|\n",
            "+-----------+-----------+--------------+----------+--------------+--------------------+----------------+-----------+-------------+-----------+----+-----------------+--------------------+--------------------+-----------+\n",
            "|         US|   32158956|R1KKOXHNI8MSXU|B01KL6O72Y|      24485154|Easy Tool Stainle...|         Apparel|          4|            0|          0|   N|                Y|★ THESE REALLY DO...|These Really Do W...| 2013-01-14|\n",
            "|         US|    2714559|R26SP2OPDK4HT7|B01ID3ZS5W|     363128556|V28 Women Cowl Ne...|         Apparel|          5|            1|          2|   N|                Y|Favorite for wint...|I love this dress...| 2014-03-04|\n",
            "|         US|   12608825| RWQEDYAX373I1|B01I497BGY|     811958549|James Fiallo Men'...|         Apparel|          5|            0|          0|   N|                Y|Great Socks for t...|Nice socks, great...| 2015-07-12|\n",
            "|         US|   25482800|R231YI7R4GPF6J|B01HDXFZK6|     692205728|Belfry Gangster 1...|         Apparel|          5|            0|          0|   N|                Y|          Slick hat!|I bought this for...| 2015-06-03|\n",
            "|         US|    9310286|R3KO3W45DD0L1K|B01G6MBEBY|     431150422|JAEDEN Women's Be...|         Apparel|          5|            0|          0|   N|                Y|I would do it again!|Perfect dress and...| 2015-06-12|\n",
            "|         US|   26631939|R1C4QH63NFL5NJ|B01FWRXN0Y|     366144407|Levi's Boys' 514 ...|         Apparel|          5|            0|          0|   N|                Y|          Five Stars|Excellent for my ...| 2014-04-22|\n",
            "|         US|   48785098|R2GP65O1U9N7BP|B01EXNH1HE|     786052021|Minimalist Wallet...|         Apparel|          5|            0|          0|   N|                Y|            Love it!|Raw is the only w...| 2015-07-28|\n",
            "|         US|   39548589|R3O29CT5MQQ3XQ|B01E7OL09O|     108920964|Harriton Men's Ba...|         Apparel|          4|            0|          0|   N|                Y|         Three Stars|        A bit large.| 2015-07-10|\n",
            "|         US|   29355866|R1ZECD2AA8QFF6|B01DXHX81O|     317132458|Jockey Women's Un...|         Apparel|          5|            0|          0|   N|                Y|          Five Stars|          Great fit!| 2015-08-09|\n",
            "|         US|   27477484|R2S79GCF6J89OA|B01DDULIJK|     110598191|Alexander Del Ros...|         Apparel|          3|            0|          0|   N|                Y|    Not my favorite.|Shirt a bit too l...| 2014-05-24|\n",
            "|         US|   17685865|R1CBCUGNP37MPK|B01BOKOL4A|     121408017|Jockey Women's Un...|         Apparel|          5|            0|          0|   N|                Y|The Jockey Women'...|The Jockey Women'...| 2015-06-10|\n",
            "|         US|   19787539|R3NU4WUR5ZNV1V|B01B3Q4Q0O|     134506082|Bali Passion For ...|         Apparel|          5|            0|          0|   N|                Y|          Five Stars|cup size is just ...| 2013-09-06|\n",
            "|         US|   44196725|R32EPCJ3XF8LGE|B01ADDSL9U|     747539045|Lilyette Women's ...|         Apparel|          5|            0|          0|   N|                Y|          Five Stars|          Perfect...| 2014-11-17|\n",
            "|         US|   45510794|R1XIBC6WQBW31M|B019P1X5XI|     696379847|Vanity Fair Women...|         Apparel|          5|            0|          0|   N|                Y|best ever4 for me...|best  ever4 for m...| 2013-05-12|\n",
            "|         US|   42025740|R1P11MVDZ65LMH|B019MDXIXG|     387286513|Warner's Women's ...|         Apparel|          5|            0|          0|   N|                Y|          Five Stars|          Great fit.| 2014-02-14|\n",
            "|         US|   27097189|R1OJA3DJL0VDDK|B019438FEG|     764190574|Columbia Women's ...|         Apparel|          5|            0|          0|   N|                Y|          Five Stars|I have this Colum...| 2014-10-20|\n",
            "|         US|   13808904|R1THWA5YRJLOOF|B0178HGNIA|     816266887|Robes King RK Cla...|         Apparel|          4|            0|          0|   N|                Y|          Four Stars|My husband found ...| 2015-07-05|\n",
            "|         US|   30225894| R738LCNRSJVXP|B016VIU0QI|     323924698|VIV Collection Be...|         Apparel|          5|            6|          7|   N|                Y|   Awesome leggings!|Awesome leggings!...| 2015-07-29|\n",
            "|         US|   45223824|R1N3Z13931J3O9|B016PUU3VO|     893588059|Fruit of the Loom...|         Apparel|          2|            0|          0|   N|                Y|Sizes not correct...|I ordered the sam...| 2015-01-01|\n",
            "|         US|   22300783|R1LBNTP7E8N89Z|B016AQNDM4|     917361125|Jockey Scrubs Wom...|         Apparel|          1|            0|          0|   N|                Y|            One Star| not exact in sizing| 2015-02-12|\n",
            "+-----------+-----------+--------------+----------+--------------+--------------------+----------------+-----------+-------------+-----------+----+-----------------+--------------------+--------------------+-----------+\n",
            "only showing top 20 rows\n",
            "\n"
          ],
          "name": "stdout"
        }
      ]
    },
    {
      "cell_type": "markdown",
      "metadata": {
        "id": "2yUSe55VY-9t"
      },
      "source": [
        "### Create DataFrames to match tables"
      ]
    },
    {
      "cell_type": "code",
      "metadata": {
        "id": "C8REmY1aY-9u"
      },
      "source": [
        "from pyspark.sql.functions import to_date\n",
        "# Read in the Review dataset as a DataFrame\n"
      ],
      "execution_count": 10,
      "outputs": []
    },
    {
      "cell_type": "code",
      "metadata": {
        "id": "B0TESUDRY-90",
        "colab": {
          "base_uri": "https://localhost:8080/"
        },
        "outputId": "d3c5d2ea-6315-457c-fac1-a2e8ccb4f5fc"
      },
      "source": [
        "# Create the customers_table DataFrame\n",
        "customers_df = df.groupby(\"customer_id\").agg({\"customer_id\":\"count\"}).withColumnRenamed(\"count(customer_id)\", \"customer_count\")\n",
        "customers_df.show()"
      ],
      "execution_count": 6,
      "outputs": [
        {
          "output_type": "stream",
          "text": [
            "+-----------+--------------+\n",
            "|customer_id|customer_count|\n",
            "+-----------+--------------+\n",
            "|   13780696|             1|\n",
            "|   48489393|             8|\n",
            "|   43380682|             1|\n",
            "|   17133428|             1|\n",
            "|    9731896|             2|\n",
            "|    1797768|             1|\n",
            "|   27446622|             1|\n",
            "|     120706|             3|\n",
            "|   15915947|             2|\n",
            "|   37520920|             1|\n",
            "|   43920023|             9|\n",
            "|   14309190|             8|\n",
            "|   22316505|             1|\n",
            "|   43949054|             2|\n",
            "|   21102747|             1|\n",
            "|   19021463|             1|\n",
            "|   16075459|             8|\n",
            "|   51475782|             2|\n",
            "|   11555870|             5|\n",
            "|   35471383|             3|\n",
            "+-----------+--------------+\n",
            "only showing top 20 rows\n",
            "\n"
          ],
          "name": "stdout"
        }
      ]
    },
    {
      "cell_type": "code",
      "metadata": {
        "id": "4FwXA6UvY-96",
        "colab": {
          "base_uri": "https://localhost:8080/"
        },
        "outputId": "163f95a7-5353-433f-b0f6-2959fe9c034d"
      },
      "source": [
        "# Create the products_table DataFrame and drop duplicates. \n",
        "products_df = df.select([\"product_id\", \"product_title\"]).drop_duplicates()\n",
        "products_df.show()"
      ],
      "execution_count": 7,
      "outputs": [
        {
          "output_type": "stream",
          "text": [
            "+----------+--------------------+\n",
            "|product_id|       product_title|\n",
            "+----------+--------------------+\n",
            "|B01427DDXM|Zoozie LA Women's...|\n",
            "|B013TPITFA|Tabeez Women's Pl...|\n",
            "|B013FU4Y9E|Ekouaer Women's U...|\n",
            "|B013FNK6PC|Ezcosplay Women O...|\n",
            "|B013FACXVK|Womens Two Piece ...|\n",
            "|B013DHKQ3W|OURS Women's 3 4 ...|\n",
            "|B0131D4NKU|Genie Women's Jeg...|\n",
            "|B0131CA9K4|BeWild Brand - Ju...|\n",
            "|B0130ZDFTE|Flora&Fred Women'...|\n",
            "|B012Y665WY|AW Fashion's I Ne...|\n",
            "|B012X0G1KW|KAMACO Women's Se...|\n",
            "|B012VOPU84|iLoveSIA Women's ...|\n",
            "|B012UUEWZG|Harley-Davidson W...|\n",
            "|B012LQU4CE|Women's Laced & L...|\n",
            "|B012ERJSKO|Amoin Style Women...|\n",
            "|B012ADLW92|Cocoship Retro 50...|\n",
            "|B012980QUY|Sanwood® Cute Bab...|\n",
            "|B0125V8SZK|OURS Women's Comf...|\n",
            "|B0125M6TZ0|Modern Kiwi Solid...|\n",
            "|B01254G39K|Alberto Cardinali...|\n",
            "+----------+--------------------+\n",
            "only showing top 20 rows\n",
            "\n"
          ],
          "name": "stdout"
        }
      ]
    },
    {
      "cell_type": "code",
      "metadata": {
        "id": "MkqyCuNQY-9-",
        "colab": {
          "base_uri": "https://localhost:8080/"
        },
        "outputId": "0ce7232d-7c28-45ed-b0d8-978736ee2388"
      },
      "source": [
        "# Create the review_id_table DataFrame. \n",
        "# Convert the 'review_date' column to a date datatype with to_date(\"review_date\", 'yyyy-MM-dd').alias(\"review_date\")\n",
        "from pyspark.sql.functions import to_date\n",
        "review_id_df = df.select([\"review_id\", \"customer_id\", \"product_id\", \"product_parent\", to_date(\"review_date\", 'yyyy-MM-dd').alias(\"review_date\")])\n",
        "review_id_df.show()"
      ],
      "execution_count": 8,
      "outputs": [
        {
          "output_type": "stream",
          "text": [
            "+--------------+-----------+----------+--------------+-----------+\n",
            "|     review_id|customer_id|product_id|product_parent|review_date|\n",
            "+--------------+-----------+----------+--------------+-----------+\n",
            "|R1KKOXHNI8MSXU|   32158956|B01KL6O72Y|      24485154| 2013-01-14|\n",
            "|R26SP2OPDK4HT7|    2714559|B01ID3ZS5W|     363128556| 2014-03-04|\n",
            "| RWQEDYAX373I1|   12608825|B01I497BGY|     811958549| 2015-07-12|\n",
            "|R231YI7R4GPF6J|   25482800|B01HDXFZK6|     692205728| 2015-06-03|\n",
            "|R3KO3W45DD0L1K|    9310286|B01G6MBEBY|     431150422| 2015-06-12|\n",
            "|R1C4QH63NFL5NJ|   26631939|B01FWRXN0Y|     366144407| 2014-04-22|\n",
            "|R2GP65O1U9N7BP|   48785098|B01EXNH1HE|     786052021| 2015-07-28|\n",
            "|R3O29CT5MQQ3XQ|   39548589|B01E7OL09O|     108920964| 2015-07-10|\n",
            "|R1ZECD2AA8QFF6|   29355866|B01DXHX81O|     317132458| 2015-08-09|\n",
            "|R2S79GCF6J89OA|   27477484|B01DDULIJK|     110598191| 2014-05-24|\n",
            "|R1CBCUGNP37MPK|   17685865|B01BOKOL4A|     121408017| 2015-06-10|\n",
            "|R3NU4WUR5ZNV1V|   19787539|B01B3Q4Q0O|     134506082| 2013-09-06|\n",
            "|R32EPCJ3XF8LGE|   44196725|B01ADDSL9U|     747539045| 2014-11-17|\n",
            "|R1XIBC6WQBW31M|   45510794|B019P1X5XI|     696379847| 2013-05-12|\n",
            "|R1P11MVDZ65LMH|   42025740|B019MDXIXG|     387286513| 2014-02-14|\n",
            "|R1OJA3DJL0VDDK|   27097189|B019438FEG|     764190574| 2014-10-20|\n",
            "|R1THWA5YRJLOOF|   13808904|B0178HGNIA|     816266887| 2015-07-05|\n",
            "| R738LCNRSJVXP|   30225894|B016VIU0QI|     323924698| 2015-07-29|\n",
            "|R1N3Z13931J3O9|   45223824|B016PUU3VO|     893588059| 2015-01-01|\n",
            "|R1LBNTP7E8N89Z|   22300783|B016AQNDM4|     917361125| 2015-02-12|\n",
            "+--------------+-----------+----------+--------------+-----------+\n",
            "only showing top 20 rows\n",
            "\n"
          ],
          "name": "stdout"
        }
      ]
    },
    {
      "cell_type": "code",
      "metadata": {
        "id": "4O22zDAab-DN"
      },
      "source": [
        ""
      ],
      "execution_count": 8,
      "outputs": []
    },
    {
      "cell_type": "code",
      "metadata": {
        "id": "lzMmkdKmY--D",
        "colab": {
          "base_uri": "https://localhost:8080/"
        },
        "outputId": "f7a6e25f-96c6-4719-bfc5-6d468acb8da3"
      },
      "source": [
        "# Create the vine_table. DataFrame\n",
        "from pyspark.sql.types import IntegerType\n",
        "vine_df = df.select([\"review_id\", \"star_rating\", \"helpful_votes\", \"total_votes\", \"vine\", \"verified_purchase\"])\n",
        "vine_df = vine_df.withColumn(\"star_rating\", vine_df[\"star_rating\"].cast(IntegerType()))\n",
        "vine_df.show()"
      ],
      "execution_count": 9,
      "outputs": [
        {
          "output_type": "stream",
          "text": [
            "+--------------+-----------+-------------+-----------+----+-----------------+\n",
            "|     review_id|star_rating|helpful_votes|total_votes|vine|verified_purchase|\n",
            "+--------------+-----------+-------------+-----------+----+-----------------+\n",
            "|R1KKOXHNI8MSXU|          4|            0|          0|   N|                Y|\n",
            "|R26SP2OPDK4HT7|          5|            1|          2|   N|                Y|\n",
            "| RWQEDYAX373I1|          5|            0|          0|   N|                Y|\n",
            "|R231YI7R4GPF6J|          5|            0|          0|   N|                Y|\n",
            "|R3KO3W45DD0L1K|          5|            0|          0|   N|                Y|\n",
            "|R1C4QH63NFL5NJ|          5|            0|          0|   N|                Y|\n",
            "|R2GP65O1U9N7BP|          5|            0|          0|   N|                Y|\n",
            "|R3O29CT5MQQ3XQ|          4|            0|          0|   N|                Y|\n",
            "|R1ZECD2AA8QFF6|          5|            0|          0|   N|                Y|\n",
            "|R2S79GCF6J89OA|          3|            0|          0|   N|                Y|\n",
            "|R1CBCUGNP37MPK|          5|            0|          0|   N|                Y|\n",
            "|R3NU4WUR5ZNV1V|          5|            0|          0|   N|                Y|\n",
            "|R32EPCJ3XF8LGE|          5|            0|          0|   N|                Y|\n",
            "|R1XIBC6WQBW31M|          5|            0|          0|   N|                Y|\n",
            "|R1P11MVDZ65LMH|          5|            0|          0|   N|                Y|\n",
            "|R1OJA3DJL0VDDK|          5|            0|          0|   N|                Y|\n",
            "|R1THWA5YRJLOOF|          4|            0|          0|   N|                Y|\n",
            "| R738LCNRSJVXP|          5|            6|          7|   N|                Y|\n",
            "|R1N3Z13931J3O9|          2|            0|          0|   N|                Y|\n",
            "|R1LBNTP7E8N89Z|          1|            0|          0|   N|                Y|\n",
            "+--------------+-----------+-------------+-----------+----+-----------------+\n",
            "only showing top 20 rows\n",
            "\n"
          ],
          "name": "stdout"
        }
      ]
    },
    {
      "cell_type": "code",
      "metadata": {
        "id": "2PIiykynd_s2"
      },
      "source": [
        "#filter the dataset for total_votes being greater than or equal to 20\n",
        "vine_df = df.select([\"review_id\",\"star_rating\",\"helpful_votes\",\"total_votes\",\"vine\",\"verified_purchase\"])\n",
        "vote_count = df.filter(\"total_votes >= 20\")"
      ],
      "execution_count": 11,
      "outputs": []
    },
    {
      "cell_type": "code",
      "metadata": {
        "id": "Exuo6ebUsCqW",
        "colab": {
          "base_uri": "https://localhost:8080/"
        },
        "outputId": "302c718e-b31f-4a9d-ac42-5017fdd4add8"
      },
      "source": [
        "#create a new DataFrame or table to retrieve all the rows where the number of helpful_votes divided by total_votes is equal to or greater than 50%.\n",
        "new_table = vote_count.filter(vote_count[\"helpful_votes\"]/vote_count[\"total_votes\"]>=0.5)\n",
        "new_table.show()"
      ],
      "execution_count": 12,
      "outputs": [
        {
          "output_type": "stream",
          "text": [
            "+-----------+-----------+--------------+----------+--------------+--------------------+----------------+-----------+-------------+-----------+----+-----------------+--------------------+--------------------+-----------+\n",
            "|marketplace|customer_id|     review_id|product_id|product_parent|       product_title|product_category|star_rating|helpful_votes|total_votes|vine|verified_purchase|     review_headline|         review_body|review_date|\n",
            "+-----------+-----------+--------------+----------+--------------+--------------------+----------------+-----------+-------------+-----------+----+-----------------+--------------------+--------------------+-----------+\n",
            "|         US|   17162238|R35PT06NWP7LDP|B0140UFQKE|     555753462|Women Padded Spor...|         Apparel|          5|           30|         32|   N|                N|This is an extrem...|This is an extrem...| 2015-08-28|\n",
            "|         US|     453792| RQW4AFOG9MR4Z|B013QTWRAC|     254612789|UONBOX Celebrity ...|         Apparel|          5|           51|         52|   N|                N|          Five Stars|Wonderful dress!!...| 2015-08-14|\n",
            "|         US|    2089228|R2SMUEBMGLAJQK|B013P4QQVO|     791992572|Vikoros Waist Cin...|         Apparel|          5|           29|         36|   N|                Y|            Love it!|I got this a size...| 2015-08-30|\n",
            "|         US|     114396|R1XVIZZALU5P6J|B013P29CBM|     539979945|UONBOX Women's Ra...|         Apparel|          5|          148|        150|   N|                Y|Colors look like ...|Very heavy soft, ...| 2015-08-17|\n",
            "|         US|   51748675|R11UFMG8M2488I|B013OUQEUM|     640221350|Meaneor Women's O...|         Apparel|          4|           23|         26|   N|                N|Very beautiful fa...|This is a very pr...| 2015-08-29|\n",
            "|         US|   50038974|R2OSHKSPXU68W5|B013KVV1NA|     234785624|TOP LEGGING TL Wo...|         Apparel|          5|          136|        147|   N|                N|Cute hoodie made ...|I wear lots of sw...| 2015-08-30|\n",
            "|         US|   52045345|R3M02FSD3BLUPU|B013JM0NKM|     601070643|Bepei Women's Lon...|         Apparel|          5|           19|         21|   N|                N|Love this unique ...|[[VIDEOID:a4649ba...| 2015-08-20|\n",
            "|         US|   44724303|R1P0LEEJHH09L3|B013HLP2WO|     556490207|Yonala Women's Vi...|         Apparel|          5|           32|         32|   N|                Y| OMG OMG ITS PERFECT|Okay so i am so h...| 2015-08-19|\n",
            "|         US|   21646689|R1V6UU1EHW3Q12|B013H3RO00|      62032810|Geoffrey Beene Me...|         Apparel|          5|           57|         62|   N|                Y|Great hankerchief...|I sincerely adore...| 2015-08-22|\n",
            "|         US|   14885085|R230W87COFSTCL|B013FLBMOS|      34452015|Neon Nightlife Li...|         Apparel|          5|           21|         21|   N|                Y|AMAZING accessory...|This is an amazin...| 2015-08-26|\n",
            "|         US|   52607844|R156HBTMUSEM88|B013CIQ4II|     282819531|Hanes Women's Cot...|         Apparel|          5|           48|         49|   N|                Y|Great color and s...|When I first open...| 2015-08-31|\n",
            "|         US|   16016643|R2X1UHSW9KUBES|B013B5MS5A|     844184360|Sexy Couture Wome...|         Apparel|          5|           22|         22|   N|                Y|They are up there...|These jeans are a...| 2015-08-31|\n",
            "|         US|   48374199| RO32P11MHPMI3|B013AXN87U|     532055092|Miusol Women's Cu...|         Apparel|          5|           24|         24|   N|                Y|... is my second ...|This is my second...| 2015-08-18|\n",
            "|         US|    2704286|R1Y8ARYNAB7PC0|B0132KKSBK|      48905872|Waist Trainer, Az...|         Apparel|          5|           19|         20|   N|                N|          LOOOOOOOVE|Love love love!!!...| 2015-08-31|\n",
            "|         US|    3151543|R1QSB09EOREALQ|B013204F0U|     116670397|Cocoship Retro 50...|         Apparel|          4|           29|         32|   N|                Y|Quality Fabric, F...|This is a great b...| 2015-08-19|\n",
            "|         US|   37194231|R1BQ8BDCIV9ONZ|B0131K1MFM|     296184450|Bewild Brand® - M...|         Apparel|          5|           44|         50|   N|                Y|  Improves discourse|This hat speaks v...| 2015-08-25|\n",
            "|         US|    2203211|R18638HIUF6XNR|B0131D4ND2|     418011491|Genie Women's Jeg...|         Apparel|          3|           22|         23|   N|                N|do your research ...|there have been a...| 2015-08-04|\n",
            "|         US|   48759981|  R1EHNRX9BMLK|B0130LQN6K|     322914675|Underwraps Women'...|         Apparel|          5|           19|         20|   N|                Y|          Five Stars|LOVE LOVE LOVE th...| 2015-08-31|\n",
            "|         US|   18562738|R26L79OMEJLULL|B012ZPYUI0|     219518146|ReliBeauty Womens...|         Apparel|          5|           32|         36|   N|                Y|Great Suit/ Great...|I was skeptical, ...| 2015-08-14|\n",
            "|         US|   51101286| RQLV8G3M9ZOT2|B012ZI7I3Q|     766947587|Avidlove Sexy Lin...|         Apparel|          5|           22|         23|   N|                N|The straps are ad...|I ordered the mau...| 2015-08-30|\n",
            "+-----------+-----------+--------------+----------+--------------+--------------------+----------------+-----------+-------------+-----------+----+-----------------+--------------------+--------------------+-----------+\n",
            "only showing top 20 rows\n",
            "\n"
          ],
          "name": "stdout"
        }
      ]
    },
    {
      "cell_type": "code",
      "metadata": {
        "colab": {
          "base_uri": "https://localhost:8080/"
        },
        "id": "TBgQ6FnLjmyl",
        "outputId": "1c592498-1d64-4a95-e77a-c3fe2ff65d4f"
      },
      "source": [
        "\n",
        "#Create a new DataFrame or table that retrieves all the rows where a review was written as part of the Vine program (paid), vine == 'Y'\n",
        "new_table.filter(new_table[\"vine\"] == \"Y\").show()"
      ],
      "execution_count": 13,
      "outputs": [
        {
          "output_type": "stream",
          "text": [
            "+-----------+-----------+--------------+----------+--------------+--------------------+----------------+-----------+-------------+-----------+----+-----------------+--------------------+--------------------+-----------+\n",
            "|marketplace|customer_id|     review_id|product_id|product_parent|       product_title|product_category|star_rating|helpful_votes|total_votes|vine|verified_purchase|     review_headline|         review_body|review_date|\n",
            "+-----------+-----------+--------------+----------+--------------+--------------------+----------------+-----------+-------------+-----------+----+-----------------+--------------------+--------------------+-----------+\n",
            "|         US|   51744990| R6U9701C3BGO6|B00XL2X3U8|     139556466|Wrangler Authenti...|         Apparel|          3|          139|        147|   Y|                N|        Comfort-Lite|After some debate...| 2015-08-31|\n",
            "|         US|   35360512|R1XK3ALB45D7N4|B00XKYRLEQ|     243221870|Wrangler Authenti...|         Apparel|          5|           33|         34|   Y|                N|So good I’m getti...|I am very impress...| 2015-08-25|\n",
            "|         US|   38075274|R1IZCSTLX81D6C|B00XKYQUGG|     679564075|Wrangler Authenti...|         Apparel|          5|           31|         33|   Y|                N|Warm, rugged, hea...|I purchased men's...| 2015-08-29|\n",
            "|         US|   19105074|R2C8NC8EQLH4JF|B00XKYNDNO|      93963715|Wrangler Authenti...|         Apparel|          3|           45|         48|   Y|                N|For those who lik...|These cargo pants...| 2015-08-29|\n",
            "|         US|   44992591|R1JJ1YOJMOML1P|B00XKXWRZ0|      81389800|Wrangler Men's Au...|         Apparel|          5|           18|         21|   Y|                N|Great style, grea...|I have a husband ...| 2015-08-29|\n",
            "|         US|   18433169|R3TKG664L9MTXJ|B00XKXO4OW|     537903834|Wrangler Authenti...|         Apparel|          4|          164|        175|   Y|                N|      Price is Right|When I met my hus...| 2015-08-29|\n",
            "|         US|   21155796|R2E942L5EX73FP|B00XH994ZI|     734591409|Wrangler Men's Lo...|         Apparel|          5|           29|         33|   Y|                N|Look for the perf...|If you're looking...| 2015-08-31|\n",
            "|         US|   51302590|R3CGRT9HYB3LI7|B00XH7I3IE|     212550147|Wrangler Authenti...|         Apparel|          5|           20|         21|   Y|                N|Well made, Well D...|Wrangler does it ...| 2015-08-28|\n",
            "|         US|   52532594|R3HIFO4D3ZIBZ7|B00XH7I3IE|     212550147|Wrangler Authenti...|         Apparel|          5|           25|         26|   Y|                N|Thick, sturdy mat...|The shirt is made...| 2015-08-27|\n",
            "|         US|   52813641|R2VUXJT91MXOQJ|B00VTVAR2U|     834255329|Fruit of the Loom...|         Apparel|          3|           72|         79|   Y|                N|Average White T-S...|I often wear a wh...| 2015-07-04|\n",
            "|         US|   40649038|R1C8PGDXGYR30Z|B00VK22T24|     213313334|Lee Women's Petit...|         Apparel|          4|           29|         30|   Y|                N|Comfortable for s...|I have a narrow w...| 2015-06-19|\n",
            "|         US|   50671887| R8MS8X9EHHTPL|B00VJLX2WM|     628507195|LEE Women's Plus ...|         Apparel|          3|           18|         20|   Y|                N|       Pants Too Big|These seem to be ...| 2015-06-24|\n",
            "|         US|   21084288|R31GNOM0KSO811|B00VJLX2EU|     628507195|LEE Women's Plus ...|         Apparel|          5|           33|         35|   Y|                N|Now I need more c...|These are really ...| 2015-06-17|\n",
            "|         US|   30337663|R30QE1QK86LPYL|B00V853AEE|     330242316|LEE Women's Relax...|         Apparel|          5|          240|        248|   Y|                N|Basic, All Day Co...|[[VIDEOID:ec1492f...| 2015-06-26|\n",
            "|         US|   47040158|R22HZWFVEVORET|B00TKXDW62|     296607349|Hanes Women's Com...|         Apparel|          4|           47|         50|   Y|                N|Decent, will be g...|I'd ordered this ...| 2015-06-23|\n",
            "|         US|   23461990|R1FH9B0W7UFLK0|B00TKXDW62|     296607349|Hanes Women's Com...|         Apparel|          2|           40|         45|   Y|                N|Just another unsu...|Being a very bust...| 2015-06-11|\n",
            "|         US|   32616889|R3JA6LR9QD9TZE|B00PLKLPTO|     219769024|Bali Women's Comf...|         Apparel|          4|           18|         20|   Y|                N|Rethinking my choice|Bali has not been...| 2015-06-18|\n",
            "|         US|   51118641|R378OQDA4JN3IG|B00PLKBQW0|     219769024|Bali Women's Comf...|         Apparel|          4|           42|         44|   Y|                N|A bargain bra tha...|I’m pretty picky ...| 2015-06-07|\n",
            "|         US|   51968312|R2U5MIYOYUTTUA|B00PLKBQH0|     219769024|Bali Women's Comf...|         Apparel|          3|           31|         34|   Y|                N|Great bra, would ...|I have been weari...| 2015-06-13|\n",
            "|         US|   43486893|R337AR463Y2FPD|B00L40XSJA|      41030786|Dickies Women's S...|         Apparel|          3|           22|         22|   Y|                N|              shrunk|I wear size 14 pa...| 2015-04-09|\n",
            "+-----------+-----------+--------------+----------+--------------+--------------------+----------------+-----------+-------------+-----------+----+-----------------+--------------------+--------------------+-----------+\n",
            "only showing top 20 rows\n",
            "\n"
          ],
          "name": "stdout"
        }
      ]
    },
    {
      "cell_type": "code",
      "metadata": {
        "colab": {
          "base_uri": "https://localhost:8080/"
        },
        "id": "SqAOv6uFjnsX",
        "outputId": "b5c76c23-bcfb-47bd-a268-347bc616de47"
      },
      "source": [
        "# The total number of reviews, the number of 5-star reviews, and the percentage 5-star reviews are calculated for all Vine and non-Vine reviews (15 pt)\n",
        "five_star = new_table.filter(new_table[\"star_rating\"]== 5)\n",
        "five_star.cache()"
      ],
      "execution_count": 14,
      "outputs": [
        {
          "output_type": "execute_result",
          "data": {
            "text/plain": [
              "DataFrame[marketplace: string, customer_id: int, review_id: string, product_id: string, product_parent: int, product_title: string, product_category: string, star_rating: int, helpful_votes: int, total_votes: int, vine: string, verified_purchase: string, review_headline: string, review_body: string, review_date: string]"
            ]
          },
          "metadata": {
            "tags": []
          },
          "execution_count": 14
        }
      ]
    },
    {
      "cell_type": "code",
      "metadata": {
        "colab": {
          "base_uri": "https://localhost:8080/"
        },
        "id": "SzCOYKzTj827",
        "outputId": "ea01514c-4a10-45aa-c59d-44aa622e93b0"
      },
      "source": [
        "five_star.count()"
      ],
      "execution_count": 15,
      "outputs": [
        {
          "output_type": "execute_result",
          "data": {
            "text/plain": [
              "23748"
            ]
          },
          "metadata": {
            "tags": []
          },
          "execution_count": 15
        }
      ]
    },
    {
      "cell_type": "code",
      "metadata": {
        "colab": {
          "base_uri": "https://localhost:8080/"
        },
        "id": "2Jq4wGQ9j8_2",
        "outputId": "eb43940f-a743-4c2f-af56-e5b1060b9c3d"
      },
      "source": [
        "\n",
        "# Total reviews\n",
        "new_table.count()"
      ],
      "execution_count": 16,
      "outputs": [
        {
          "output_type": "execute_result",
          "data": {
            "text/plain": [
              "45421"
            ]
          },
          "metadata": {
            "tags": []
          },
          "execution_count": 16
        }
      ]
    },
    {
      "cell_type": "code",
      "metadata": {
        "colab": {
          "base_uri": "https://localhost:8080/"
        },
        "id": "weWY7cpTkiaJ",
        "outputId": "12b9cc9d-782e-4317-e130-95c44fc271b8"
      },
      "source": [
        "\n",
        "# Percentage of five star reviews\n",
        "five_star.count() / new_table.count()"
      ],
      "execution_count": 17,
      "outputs": [
        {
          "output_type": "execute_result",
          "data": {
            "text/plain": [
              "0.5228418572906806"
            ]
          },
          "metadata": {
            "tags": []
          },
          "execution_count": 17
        }
      ]
    },
    {
      "cell_type": "code",
      "metadata": {
        "colab": {
          "base_uri": "https://localhost:8080/"
        },
        "id": "MBxaaSUokjIu",
        "outputId": "d7ec7b20-2a75-43cd-9b22-5aec24979ad6"
      },
      "source": [
        "# Percentage of paid reviews\n",
        "five_star.filter(five_star[\"verified_purchase\"] == \"Y\").count()/new_table.filter(new_table[\"verified_purchase\"]== \"Y\").count()"
      ],
      "execution_count": 18,
      "outputs": [
        {
          "output_type": "execute_result",
          "data": {
            "text/plain": [
              "0.5291599198616791"
            ]
          },
          "metadata": {
            "tags": []
          },
          "execution_count": 18
        }
      ]
    },
    {
      "cell_type": "code",
      "metadata": {
        "colab": {
          "base_uri": "https://localhost:8080/"
        },
        "id": "UYl-_7ONkiM_",
        "outputId": "23fbab7a-f398-4858-b114-391938097b7f"
      },
      "source": [
        "# Percentage of unpaid reviews\n",
        "five_star.filter(five_star[\"verified_purchase\"] == \"N\").count()/new_table.filter(new_table[\"verified_purchase\"]== \"N\").count()"
      ],
      "execution_count": 19,
      "outputs": [
        {
          "output_type": "execute_result",
          "data": {
            "text/plain": [
              "0.4972172751558326"
            ]
          },
          "metadata": {
            "tags": []
          },
          "execution_count": 19
        }
      ]
    }
  ]
}